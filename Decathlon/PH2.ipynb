{
 "cells": [
  {
   "cell_type": "code",
   "execution_count": 1,
   "id": "93f4342a",
   "metadata": {},
   "outputs": [],
   "source": [
    "import sys\n",
    "sys.path.append('../../Steerable')\n",
    "import Steerable"
   ]
  },
  {
   "cell_type": "code",
   "execution_count": 5,
   "id": "b2cbf370",
   "metadata": {},
   "outputs": [
    {
     "name": "stdout",
     "output_type": "stream",
     "text": [
      "Creating train dataset: Success!\n",
      "Writing into train dataset : 23 / 23\n",
      "Done\n",
      "Creating val dataset: Success!\n",
      "Writing into val dataset : 3 / 3\n",
      "Done\n",
      "Creating test dataset: Success!\n",
      "Writing into test dataset : 6 / 6\n",
      "Done\n"
     ]
    }
   ],
   "source": [
    "! python3 Decathlon.py --task=\"Prostate\" --data_path=\"./data\""
   ]
  }
 ],
 "metadata": {
  "kernelspec": {
   "display_name": "Python 3",
   "language": "python",
   "name": "python3"
  },
  "language_info": {
   "codemirror_mode": {
    "name": "ipython",
    "version": 3
   },
   "file_extension": ".py",
   "mimetype": "text/x-python",
   "name": "python",
   "nbconvert_exporter": "python",
   "pygments_lexer": "ipython3",
   "version": "3.12.3"
  }
 },
 "nbformat": 4,
 "nbformat_minor": 5
}
